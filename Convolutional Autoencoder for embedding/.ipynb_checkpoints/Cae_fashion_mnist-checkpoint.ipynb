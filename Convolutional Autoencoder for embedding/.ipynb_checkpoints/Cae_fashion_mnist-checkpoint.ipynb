{
 "cells": [
  {
   "cell_type": "code",
   "execution_count": 2,
   "metadata": {},
   "outputs": [],
   "source": [
    "import numpy as np \n",
    "import pandas as pd \n",
    "import os\n",
    "\n",
    "import matplotlib.pyplot as plt\n",
    "%matplotlib inline \n",
    "\n",
    "from keras.utils.np_utils import to_categorical\n",
    "from keras.datasets import fashion_mnist\n",
    "\n",
    "from tensorflow.keras import Input\n",
    "from tensorflow.keras.layers import Conv2D, Dense, Dropout, MaxPooling2D, Flatten, UpSampling2D\n",
    "from tensorflow.keras.callbacks import ModelCheckpoint\n",
    "from tensorflow.keras.models import Model, Sequential\n",
    "from tensorflow.keras.optimizers import Adam\n",
    "from tensorflow.keras.regularizers import l2"
   ]
  },
  {
   "cell_type": "code",
   "execution_count": 3,
   "metadata": {},
   "outputs": [],
   "source": [
    "## Download images\n",
    "(x_train, y_train), (x_test, y_test) = fashion_mnist.load_data()\n",
    "\n",
    "y_train_dummy = to_categorical(y_train)\n",
    "y_test_dummy = to_categorical(y_test)\n",
    "\n",
    "label_dict = {0: 'T-shirt/top',\n",
    "            1: 'Trouser',\n",
    "            2: 'Pullover',\n",
    "            3: 'Dress',\n",
    "            4: 'Coat',\n",
    "            5: 'Sandal',\n",
    "            6: 'Shirt',\n",
    "            7: 'Sneaker',\n",
    "            8: 'Bag',\n",
    "            9: 'Ankle boot'}"
   ]
  },
  {
   "cell_type": "code",
   "execution_count": 4,
   "metadata": {},
   "outputs": [
    {
     "data": {
      "image/png": "[encoded data removed]",
      "text/plain": [
       "<Figure size 720x720 with 9 Axes>"
      ]
     },
     "metadata": {
      "needs_background": "light"
     },
     "output_type": "display_data"
    }
   ],
   "source": [
    "## Display some examples\n",
    "fig, ax = plt.subplots(ncols = 3, nrows = 3, figsize=(10,10))\n",
    "cnt = 0\n",
    "\n",
    "for i in range(3):\n",
    "    for j in range(3):\n",
    "        ax[i][j].imshow(x_train[cnt,:,:], cmap='gray')\n",
    "        ax[i][j].get_xaxis().set_visible(False)\n",
    "        ax[i][j].get_yaxis().set_visible(False)\n",
    "        \n",
    "        cnt = cnt + 1\n",
    "fig.tight_layout()"
   ]
  },
  {
   "cell_type": "code",
   "execution_count": 5,
   "metadata": {},
   "outputs": [],
   "source": [
    "## Embedding using supervised learning\n",
    "def build_model(lr, l2_reg):\n",
    "    model = Sequential()\n",
    "    model.add(Conv2D(64, kernel_size=(3,3), padding='same', activation='relu', input_shape=(28,28,1)))\n",
    "    model.add(MaxPooling2D(pool_size=(2,2)))\n",
    "    \n",
    "    model.add(Conv2D(128, kernel_size=(3,3), padding='same', activation='relu'))\n",
    "    model.add(MaxPooling2D(pool_size=(2,2)))\n",
    "\n",
    "    model.add(Conv2D(256, kernel_size=(3,3), padding='same', activation='relu'))\n",
    "    model.add(Conv2D(256, kernel_size=(3,3), padding='same', activation='relu'))\n",
    "    model.add(MaxPooling2D(pool_size=(2,2)))\n",
    "    \n",
    "    model.add(Conv2D(512, kernel_size=(3,3), padding='same', activation='relu'))\n",
    "    model.add(Conv2D(512, kernel_size=(3,3), padding='same', activation='relu'))\n",
    "    model.add(MaxPooling2D(pool_size=(2,2)))           \n",
    "              \n",
    "    model.add(Flatten())\n",
    "    model.add(Dense(units=4048, activation='relu', kernel_regularizer=l2(l2_reg)))\n",
    "    model.add(Dense(units=4048, activation='relu', kernel_regularizer=l2(l2_reg)))\n",
    "    model.add(Dense(units=1000, activation='relu', kernel_regularizer=l2(l2_reg)))\n",
    "              \n",
    "    model.add(Dense(units=10, activation='softmax'))\n",
    "    \n",
    "    model.compile(optimizer=Adam(lr=lr),\n",
    "                 loss='categorical_crossentropy',\n",
    "                 metrics=['accuracy'])\n",
    "    \n",
    "    return model\n",
    "                        \n",
    "    "
   ]
  },
  {
   "cell_type": "code",
   "execution_count": 6,
   "metadata": {},
   "outputs": [
    {
     "name": "stdout",
     "output_type": "stream",
     "text": [
      "Model: \"sequential\"\n",
      "_________________________________________________________________\n",
      "Layer (type)                 Output Shape              Param #   \n",
      "=================================================================\n",
      "conv2d (Conv2D)              (None, 28, 28, 64)        640       \n",
      "_________________________________________________________________\n",
      "max_pooling2d (MaxPooling2D) (None, 14, 14, 64)        0         \n",
      "_________________________________________________________________\n",
      "conv2d_1 (Conv2D)            (None, 14, 14, 128)       73856     \n",
      "_________________________________________________________________\n",
      "max_pooling2d_1 (MaxPooling2 (None, 7, 7, 128)         0         \n",
      "_________________________________________________________________\n",
      "conv2d_2 (Conv2D)            (None, 7, 7, 256)         295168    \n",
      "_________________________________________________________________\n",
      "conv2d_3 (Conv2D)            (None, 7, 7, 256)         590080    \n",
      "_________________________________________________________________\n",
      "max_pooling2d_2 (MaxPooling2 (None, 3, 3, 256)         0         \n",
      "_________________________________________________________________\n",
      "conv2d_4 (Conv2D)            (None, 3, 3, 512)         1180160   \n",
      "_________________________________________________________________\n",
      "conv2d_5 (Conv2D)            (None, 3, 3, 512)         2359808   \n",
      "_________________________________________________________________\n",
      "max_pooling2d_3 (MaxPooling2 (None, 1, 1, 512)         0         \n",
      "_________________________________________________________________\n",
      "flatten (Flatten)            (None, 512)               0         \n",
      "_________________________________________________________________\n",
      "dense (Dense)                (None, 4048)              2076624   \n",
      "_________________________________________________________________\n",
      "dense_1 (Dense)              (None, 4048)              16390352  \n",
      "_________________________________________________________________\n",
      "dense_2 (Dense)              (None, 1000)              4049000   \n",
      "_________________________________________________________________\n",
      "dense_3 (Dense)              (None, 10)                10010     \n",
      "=================================================================\n",
      "Total params: 27,025,698\n",
      "Trainable params: 27,025,698\n",
      "Non-trainable params: 0\n",
      "_________________________________________________________________\n"
     ]
    }
   ],
   "source": [
    "## Building the model\n",
    "first_model = build_model(lr=0.001, l2_reg=0.01)\n",
    "first_model.summary()"
   ]
  },
  {
   "cell_type": "code",
   "execution_count": 23,
   "metadata": {
    "scrolled": true
   },
   "outputs": [
    {
     "name": "stdout",
     "output_type": "stream",
     "text": [
      "Train on 48000 samples, validate on 12000 samples\n",
      "Epoch 1/100\n",
      "48000/48000 - 11s - loss: 12.8037 - accuracy: 0.5080 - val_loss: 3.9345 - val_accuracy: 0.7922\n",
      "Epoch 2/100\n",
      "48000/48000 - 10s - loss: 2.4720 - accuracy: 0.8386 - val_loss: 1.5271 - val_accuracy: 0.8718\n",
      "Epoch 3/100\n",
      "48000/48000 - 10s - loss: 1.1095 - accuracy: 0.8844 - val_loss: 0.8513 - val_accuracy: 0.8724\n",
      "Epoch 4/100\n",
      "48000/48000 - 10s - loss: 0.6378 - accuracy: 0.9027 - val_loss: 0.5524 - val_accuracy: 0.8986\n",
      "Epoch 5/100\n",
      "48000/48000 - 10s - loss: 0.4285 - accuracy: 0.9131 - val_loss: 0.3962 - val_accuracy: 0.9090\n",
      "Epoch 6/100\n",
      "48000/48000 - 10s - loss: 0.3250 - accuracy: 0.9234 - val_loss: 0.3441 - val_accuracy: 0.9119\n",
      "Epoch 7/100\n",
      "48000/48000 - 10s - loss: 0.2661 - accuracy: 0.9290 - val_loss: 0.3121 - val_accuracy: 0.9135\n",
      "Epoch 8/100\n",
      "48000/48000 - 9s - loss: 0.2272 - accuracy: 0.9360 - val_loss: 0.3129 - val_accuracy: 0.9076\n",
      "Epoch 9/100\n",
      "48000/48000 - 10s - loss: 0.2041 - accuracy: 0.9425 - val_loss: 0.2793 - val_accuracy: 0.9183\n",
      "Epoch 10/100\n",
      "48000/48000 - 10s - loss: 0.1845 - accuracy: 0.9482 - val_loss: 0.2850 - val_accuracy: 0.9197\n",
      "Epoch 11/100\n",
      "48000/48000 - 9s - loss: 0.1709 - accuracy: 0.9538 - val_loss: 0.3501 - val_accuracy: 0.9140\n",
      "Epoch 12/100\n",
      "48000/48000 - 9s - loss: 0.1582 - accuracy: 0.9566 - val_loss: 0.3511 - val_accuracy: 0.9186\n",
      "Epoch 13/100\n",
      "48000/48000 - 9s - loss: 0.1587 - accuracy: 0.9611 - val_loss: 0.3186 - val_accuracy: 0.9149\n",
      "Epoch 14/100\n",
      "48000/48000 - 9s - loss: 0.1308 - accuracy: 0.9652 - val_loss: 0.3044 - val_accuracy: 0.9193\n",
      "Epoch 15/100\n",
      "48000/48000 - 9s - loss: 0.2425 - accuracy: 0.9536 - val_loss: 0.3535 - val_accuracy: 0.9186\n",
      "Epoch 16/100\n",
      "48000/48000 - 9s - loss: 0.1415 - accuracy: 0.9722 - val_loss: 0.3412 - val_accuracy: 0.9178\n",
      "Epoch 17/100\n",
      "48000/48000 - 10s - loss: 0.1080 - accuracy: 0.9770 - val_loss: 0.3064 - val_accuracy: 0.9200\n",
      "Epoch 18/100\n",
      "48000/48000 - 9s - loss: 0.0894 - accuracy: 0.9813 - val_loss: 0.3415 - val_accuracy: 0.9189\n",
      "Epoch 19/100\n",
      "48000/48000 - 9s - loss: 0.0891 - accuracy: 0.9814 - val_loss: 0.3422 - val_accuracy: 0.9187\n",
      "Epoch 20/100\n",
      "48000/48000 - 11s - loss: 0.0816 - accuracy: 0.9824 - val_loss: 0.3661 - val_accuracy: 0.9202\n",
      "Epoch 21/100\n",
      "48000/48000 - 9s - loss: 0.0707 - accuracy: 0.9855 - val_loss: 0.3865 - val_accuracy: 0.9162\n",
      "Epoch 22/100\n",
      "48000/48000 - 9s - loss: 0.0823 - accuracy: 0.9842 - val_loss: 0.3941 - val_accuracy: 0.9137\n",
      "Epoch 23/100\n",
      "48000/48000 - 9s - loss: 0.0999 - accuracy: 0.9840 - val_loss: 0.3630 - val_accuracy: 0.9196\n",
      "Epoch 24/100\n",
      "48000/48000 - 9s - loss: 0.0600 - accuracy: 0.9887 - val_loss: 0.3981 - val_accuracy: 0.9197\n",
      "Epoch 25/100\n",
      "48000/48000 - 9s - loss: 0.0730 - accuracy: 0.9879 - val_loss: 0.4122 - val_accuracy: 0.9178\n",
      "Epoch 26/100\n",
      "48000/48000 - 9s - loss: 0.0626 - accuracy: 0.9881 - val_loss: 0.4393 - val_accuracy: 0.9156\n",
      "Epoch 27/100\n",
      "48000/48000 - 9s - loss: 0.0541 - accuracy: 0.9904 - val_loss: 0.3930 - val_accuracy: 0.9197\n",
      "Epoch 28/100\n",
      "48000/48000 - 9s - loss: 0.0553 - accuracy: 0.9908 - val_loss: 0.4308 - val_accuracy: 0.9194\n",
      "Epoch 29/100\n",
      "48000/48000 - 9s - loss: 0.0781 - accuracy: 0.9893 - val_loss: 0.5418 - val_accuracy: 0.9070\n",
      "Epoch 30/100\n",
      "48000/48000 - 9s - loss: 0.2196 - accuracy: 0.9788 - val_loss: 0.4678 - val_accuracy: 0.9183\n",
      "Epoch 31/100\n",
      "48000/48000 - 10s - loss: 0.0747 - accuracy: 0.9915 - val_loss: 0.4606 - val_accuracy: 0.9214\n",
      "Epoch 32/100\n",
      "48000/48000 - 9s - loss: 0.0583 - accuracy: 0.9917 - val_loss: 0.4727 - val_accuracy: 0.9212\n",
      "Epoch 33/100\n",
      "48000/48000 - 9s - loss: 0.0470 - accuracy: 0.9933 - val_loss: 0.4740 - val_accuracy: 0.9202\n",
      "Epoch 34/100\n",
      "48000/48000 - 9s - loss: 0.0505 - accuracy: 0.9931 - val_loss: 0.4825 - val_accuracy: 0.9206\n",
      "Epoch 35/100\n",
      "48000/48000 - 9s - loss: 0.0479 - accuracy: 0.9925 - val_loss: 0.4152 - val_accuracy: 0.9196\n",
      "Epoch 36/100\n",
      "48000/48000 - 9s - loss: 0.0345 - accuracy: 0.9949 - val_loss: 0.4641 - val_accuracy: 0.9197\n",
      "Epoch 37/100\n",
      "48000/48000 - 10s - loss: 0.0339 - accuracy: 0.9943 - val_loss: 0.4664 - val_accuracy: 0.9229\n",
      "Epoch 38/100\n",
      "48000/48000 - 9s - loss: 0.0324 - accuracy: 0.9948 - val_loss: 0.4546 - val_accuracy: 0.9187\n",
      "Epoch 39/100\n",
      "48000/48000 - 9s - loss: 0.2143 - accuracy: 0.9797 - val_loss: 0.5536 - val_accuracy: 0.9143\n",
      "Epoch 40/100\n",
      "48000/48000 - 9s - loss: 0.1332 - accuracy: 0.9887 - val_loss: 0.5500 - val_accuracy: 0.9199\n",
      "Epoch 41/100\n",
      "48000/48000 - 9s - loss: 0.0847 - accuracy: 0.9923 - val_loss: 0.5572 - val_accuracy: 0.9188\n",
      "Epoch 42/100\n",
      "48000/48000 - 9s - loss: 0.0556 - accuracy: 0.9950 - val_loss: 0.5531 - val_accuracy: 0.9208\n",
      "Epoch 43/100\n",
      "48000/48000 - 9s - loss: 0.0451 - accuracy: 0.9956 - val_loss: 0.4769 - val_accuracy: 0.9197\n",
      "Epoch 44/100\n",
      "48000/48000 - 9s - loss: 0.0401 - accuracy: 0.9962 - val_loss: 0.5290 - val_accuracy: 0.9216\n",
      "Epoch 45/100\n",
      "48000/48000 - 9s - loss: 0.0321 - accuracy: 0.9969 - val_loss: 0.5147 - val_accuracy: 0.9187\n",
      "Epoch 46/100\n",
      "48000/48000 - 9s - loss: 0.0322 - accuracy: 0.9961 - val_loss: 0.4759 - val_accuracy: 0.9208\n",
      "Epoch 47/100\n",
      "48000/48000 - 9s - loss: 0.0336 - accuracy: 0.9952 - val_loss: 0.4746 - val_accuracy: 0.9225\n",
      "Epoch 48/100\n",
      "48000/48000 - 9s - loss: 0.0360 - accuracy: 0.9953 - val_loss: 0.5189 - val_accuracy: 0.9187\n",
      "Epoch 49/100\n",
      "48000/48000 - 9s - loss: 0.2236 - accuracy: 0.9761 - val_loss: 1.0101 - val_accuracy: 0.8989\n",
      "Epoch 50/100\n",
      "48000/48000 - 9s - loss: 0.4043 - accuracy: 0.9733 - val_loss: 0.8301 - val_accuracy: 0.9018\n",
      "Epoch 51/100\n",
      "48000/48000 - 9s - loss: 0.2703 - accuracy: 0.9843 - val_loss: 0.5931 - val_accuracy: 0.9130\n",
      "Epoch 52/100\n",
      "48000/48000 - 10s - loss: 0.1456 - accuracy: 0.9932 - val_loss: 0.6335 - val_accuracy: 0.9186\n",
      "Epoch 53/100\n",
      "48000/48000 - 10s - loss: 0.1055 - accuracy: 0.9951 - val_loss: 0.5664 - val_accuracy: 0.9186\n",
      "Epoch 54/100\n",
      "48000/48000 - 11s - loss: 0.0802 - accuracy: 0.9963 - val_loss: 0.4826 - val_accuracy: 0.9249\n",
      "Epoch 55/100\n",
      "48000/48000 - 10s - loss: 0.0611 - accuracy: 0.9974 - val_loss: 0.5683 - val_accuracy: 0.9228\n",
      "Epoch 56/100\n",
      "48000/48000 - 10s - loss: 0.0509 - accuracy: 0.9975 - val_loss: 0.5068 - val_accuracy: 0.9202\n",
      "Epoch 57/100\n",
      "48000/48000 - 10s - loss: 0.0479 - accuracy: 0.9973 - val_loss: 0.4984 - val_accuracy: 0.9228\n",
      "Epoch 58/100\n",
      "48000/48000 - 11s - loss: 0.0444 - accuracy: 0.9966 - val_loss: 0.4658 - val_accuracy: 0.9246\n",
      "Epoch 59/100\n",
      "48000/48000 - 10s - loss: 0.0357 - accuracy: 0.9976 - val_loss: 0.4921 - val_accuracy: 0.9244\n",
      "Epoch 60/100\n",
      "48000/48000 - 10s - loss: 0.0370 - accuracy: 0.9970 - val_loss: 0.5124 - val_accuracy: 0.9243\n",
      "Epoch 61/100\n",
      "48000/48000 - 10s - loss: 0.0412 - accuracy: 0.9966 - val_loss: 0.5126 - val_accuracy: 0.9224\n",
      "Epoch 62/100\n",
      "48000/48000 - 10s - loss: 0.0353 - accuracy: 0.9969 - val_loss: 0.4901 - val_accuracy: 0.9232\n",
      "Epoch 63/100\n",
      "48000/48000 - 10s - loss: 0.0297 - accuracy: 0.9969 - val_loss: 0.5726 - val_accuracy: 0.9204\n",
      "Epoch 64/100\n",
      "48000/48000 - 10s - loss: 0.0353 - accuracy: 0.9964 - val_loss: 0.5266 - val_accuracy: 0.9240\n",
      "Epoch 65/100\n",
      "48000/48000 - 10s - loss: 0.2273 - accuracy: 0.9853 - val_loss: 0.6897 - val_accuracy: 0.9172\n",
      "Epoch 66/100\n",
      "48000/48000 - 10s - loss: 0.1773 - accuracy: 0.9913 - val_loss: 0.5648 - val_accuracy: 0.9192\n",
      "Epoch 67/100\n",
      "48000/48000 - 10s - loss: 0.1060 - accuracy: 0.9944 - val_loss: 0.5548 - val_accuracy: 0.9215\n",
      "Epoch 68/100\n",
      "48000/48000 - 10s - loss: 0.0660 - accuracy: 0.9960 - val_loss: 0.6051 - val_accuracy: 0.9199\n",
      "Epoch 69/100\n",
      "48000/48000 - 10s - loss: 0.0392 - accuracy: 0.9984 - val_loss: 0.5548 - val_accuracy: 0.9241\n",
      "Epoch 70/100\n",
      "48000/48000 - 10s - loss: 0.0313 - accuracy: 0.9986 - val_loss: 0.4990 - val_accuracy: 0.9224\n",
      "Epoch 71/100\n",
      "48000/48000 - 11s - loss: 0.0307 - accuracy: 0.9974 - val_loss: 0.5112 - val_accuracy: 0.9208\n",
      "Epoch 72/100\n",
      "48000/48000 - 10s - loss: 0.0306 - accuracy: 0.9969 - val_loss: 0.5505 - val_accuracy: 0.9175\n",
      "Epoch 73/100\n",
      "48000/48000 - 10s - loss: 0.0227 - accuracy: 0.9985 - val_loss: 0.5000 - val_accuracy: 0.9232\n",
      "Epoch 74/100\n",
      "48000/48000 - 10s - loss: 0.0256 - accuracy: 0.9973 - val_loss: 0.5460 - val_accuracy: 0.9230\n",
      "Epoch 75/100\n",
      "48000/48000 - 10s - loss: 0.0291 - accuracy: 0.9968 - val_loss: 0.5345 - val_accuracy: 0.9177\n",
      "Epoch 76/100\n",
      "48000/48000 - 10s - loss: 0.0267 - accuracy: 0.9972 - val_loss: 0.5169 - val_accuracy: 0.9187\n",
      "Epoch 77/100\n",
      "48000/48000 - 10s - loss: 0.0283 - accuracy: 0.9964 - val_loss: 0.5016 - val_accuracy: 0.9227\n",
      "Epoch 78/100\n",
      "48000/48000 - 10s - loss: 0.1123 - accuracy: 0.9899 - val_loss: 0.6879 - val_accuracy: 0.9137\n",
      "Epoch 79/100\n",
      "48000/48000 - 10s - loss: 0.3870 - accuracy: 0.9731 - val_loss: 0.6799 - val_accuracy: 0.9133\n",
      "Epoch 80/100\n",
      "48000/48000 - 10s - loss: 0.1821 - accuracy: 0.9923 - val_loss: 0.6322 - val_accuracy: 0.9202\n",
      "Epoch 81/100\n",
      "48000/48000 - 10s - loss: 0.1052 - accuracy: 0.9969 - val_loss: 0.6269 - val_accuracy: 0.9213\n",
      "Epoch 82/100\n",
      "48000/48000 - 10s - loss: 0.0754 - accuracy: 0.9983 - val_loss: 0.6162 - val_accuracy: 0.9240\n",
      "Epoch 83/100\n",
      "48000/48000 - 10s - loss: 0.0620 - accuracy: 0.9976 - val_loss: 0.5787 - val_accuracy: 0.9202\n",
      "Epoch 84/100\n",
      "48000/48000 - 10s - loss: 0.0495 - accuracy: 0.9982 - val_loss: 0.6083 - val_accuracy: 0.9220\n",
      "Epoch 85/100\n",
      "48000/48000 - 10s - loss: 0.0396 - accuracy: 0.9984 - val_loss: 0.6287 - val_accuracy: 0.9218\n",
      "Epoch 86/100\n",
      "48000/48000 - 10s - loss: 0.0416 - accuracy: 0.9972 - val_loss: 0.5169 - val_accuracy: 0.9187\n",
      "Epoch 87/100\n",
      "48000/48000 - 10s - loss: 0.0333 - accuracy: 0.9978 - val_loss: 0.5726 - val_accuracy: 0.9239\n",
      "Epoch 88/100\n",
      "48000/48000 - 10s - loss: 0.0295 - accuracy: 0.9981 - val_loss: 0.5319 - val_accuracy: 0.9227\n",
      "Epoch 89/100\n",
      "48000/48000 - 10s - loss: 0.0217 - accuracy: 0.9987 - val_loss: 0.5338 - val_accuracy: 0.9240\n",
      "Epoch 90/100\n",
      "48000/48000 - 10s - loss: 0.0231 - accuracy: 0.9982 - val_loss: 0.6155 - val_accuracy: 0.9231\n",
      "Epoch 91/100\n",
      "48000/48000 - 10s - loss: 0.0362 - accuracy: 0.9961 - val_loss: 0.5451 - val_accuracy: 0.9192\n",
      "Epoch 92/100\n",
      "48000/48000 - 10s - loss: 0.0268 - accuracy: 0.9972 - val_loss: 0.5582 - val_accuracy: 0.9219\n",
      "Epoch 93/100\n",
      "48000/48000 - 10s - loss: 0.0217 - accuracy: 0.9977 - val_loss: 0.5229 - val_accuracy: 0.9245\n",
      "Epoch 94/100\n",
      "48000/48000 - 10s - loss: 0.0185 - accuracy: 0.9986 - val_loss: 0.5586 - val_accuracy: 0.9210\n",
      "Epoch 95/100\n",
      "48000/48000 - 10s - loss: 0.2780 - accuracy: 0.9747 - val_loss: 0.7657 - val_accuracy: 0.9059\n",
      "Epoch 96/100\n",
      "48000/48000 - 10s - loss: 0.2883 - accuracy: 0.9876 - val_loss: 0.6142 - val_accuracy: 0.9178\n",
      "Epoch 97/100\n",
      "48000/48000 - 10s - loss: 0.1499 - accuracy: 0.9957 - val_loss: 0.6075 - val_accuracy: 0.9230\n",
      "Epoch 98/100\n",
      "48000/48000 - 10s - loss: 0.0884 - accuracy: 0.9978 - val_loss: 0.5881 - val_accuracy: 0.9227\n",
      "Epoch 99/100\n",
      "48000/48000 - 10s - loss: 0.0647 - accuracy: 0.9984 - val_loss: 0.6080 - val_accuracy: 0.9228\n",
      "Epoch 100/100\n",
      "48000/48000 - 10s - loss: 0.0486 - accuracy: 0.9987 - val_loss: 0.5700 - val_accuracy: 0.9243\n"
     ]
    }
   ],
   "source": [
    "## Setup model checkpoint and training.\n",
    "checkpoint_path = 'ouput/training/cp.ckpt'\n",
    "checkpoint_dir = os.path.dirname(checkpoint_path)\n",
    "\n",
    "mcp = ModelCheckpoint(checkpoint_path, \n",
    "                      monitor='val_accuracy', \n",
    "                      mode='max', \n",
    "                      save_best_only=True,\n",
    "                      save_weights_only=True)\n",
    "\n",
    "history = first_model.fit(x_train.reshape(x_train.shape[0], 28, 28,1), \n",
    "                          y_train_dummy,\n",
    "                          epochs=100,\n",
    "                          validation_split=0.2,\n",
    "                          batch_size=256,\n",
    "                          verbose=2,\n",
    "                          callbacks=[mcp]\n",
    "                          )"
   ]
  },
  {
   "cell_type": "code",
   "execution_count": 44,
   "metadata": {},
   "outputs": [
    {
     "data": {
      "text/plain": [
       "Text(0.5, 1.0, 'Accuracy')"
      ]
     },
     "execution_count": 44,
     "metadata": {},
     "output_type": "execute_result"
    },
    {
     "data": {
      "image/png": "[encoded data removed]",
      "text/plain": [
       "<Figure size 1080x360 with 2 Axes>"
      ]
     },
     "metadata": {
      "needs_background": "light"
     },
     "output_type": "display_data"
    }
   ],
   "source": [
    "fig, ax  = plt.subplots(nrows=1, ncols=2, figsize=(15,5))\n",
    "\n",
    "ax[0].plot(history.history['loss'], label='Training')\n",
    "ax[0].plot(history.history['val_loss'], label='Validation')\n",
    "ax[0].set_title('Loss', fontsize=15)\n",
    "\n",
    "ax[1].plot(history.history['accuracy'], label='Training')\n",
    "ax[1].plot(history.history['val_accuracy'], label='Validation')\n",
    "ax[1].set_title('Accuracy', fontsize=15);"
   ]
  },
  {
   "cell_type": "code",
   "execution_count": 53,
   "metadata": {},
   "outputs": [
    {
     "name": "stdout",
     "output_type": "stream",
     "text": [
      "Model: \"sequential_2\"\n",
      "_________________________________________________________________\n",
      "Layer (type)                 Output Shape              Param #   \n",
      "=================================================================\n",
      "conv2d_6 (Conv2D)            (None, 28, 28, 64)        640       \n",
      "_________________________________________________________________\n",
      "max_pooling2d_4 (MaxPooling2 (None, 14, 14, 64)        0         \n",
      "_________________________________________________________________\n",
      "conv2d_7 (Conv2D)            (None, 14, 14, 128)       73856     \n",
      "_________________________________________________________________\n",
      "max_pooling2d_5 (MaxPooling2 (None, 7, 7, 128)         0         \n",
      "_________________________________________________________________\n",
      "conv2d_8 (Conv2D)            (None, 7, 7, 256)         295168    \n",
      "_________________________________________________________________\n",
      "conv2d_9 (Conv2D)            (None, 7, 7, 256)         590080    \n",
      "_________________________________________________________________\n",
      "max_pooling2d_6 (MaxPooling2 (None, 3, 3, 256)         0         \n",
      "_________________________________________________________________\n",
      "conv2d_10 (Conv2D)           (None, 3, 3, 512)         1180160   \n",
      "_________________________________________________________________\n",
      "conv2d_11 (Conv2D)           (None, 3, 3, 512)         2359808   \n",
      "_________________________________________________________________\n",
      "max_pooling2d_7 (MaxPooling2 (None, 1, 1, 512)         0         \n",
      "_________________________________________________________________\n",
      "flatten_1 (Flatten)          (None, 512)               0         \n",
      "_________________________________________________________________\n",
      "dense_4 (Dense)              (None, 4048)              2076624   \n",
      "_________________________________________________________________\n",
      "dense_5 (Dense)              (None, 4048)              16390352  \n",
      "_________________________________________________________________\n",
      "dense_6 (Dense)              (None, 1000)              4049000   \n",
      "=================================================================\n",
      "Total params: 27,015,688\n",
      "Trainable params: 27,015,688\n",
      "Non-trainable params: 0\n",
      "_________________________________________________________________\n"
     ]
    }
   ],
   "source": [
    "new_model = Sequential()\n",
    "\n",
    "for layer in first_model.layers[:-1]:\n",
    "    new_model.add(layer)\n",
    "\n",
    "new_model.summary()"
   ]
  },
  {
   "cell_type": "code",
   "execution_count": 7,
   "metadata": {},
   "outputs": [
    {
     "ename": "SyntaxError",
     "evalue": "invalid syntax (<ipython-input-7-132d62aa6def>, line 1)",
     "output_type": "error",
     "traceback": [
      "\u001b[1;36m  File \u001b[1;32m\"<ipython-input-7-132d62aa6def>\"\u001b[1;36m, line \u001b[1;32m1\u001b[0m\n\u001b[1;33m    TabNine::config\u001b[0m\n\u001b[1;37m            ^\u001b[0m\n\u001b[1;31mSyntaxError\u001b[0m\u001b[1;31m:\u001b[0m invalid syntax\n"
     ]
    }
   ],
   "source": [
    "plt."
   ]
  },
  {
   "cell_type": "code",
   "execution_count": 4,
   "metadata": {},
   "outputs": [
    {
     "name": "stdout",
     "output_type": "stream",
     "text": [
      "Model: \"model\"\n",
      "_________________________________________________________________\n",
      "Layer (type)                 Output Shape              Param #   \n",
      "=================================================================\n",
      "input_1 (InputLayer)         [(None, 28, 28, 1)]       0         \n",
      "_________________________________________________________________\n",
      "conv2d (Conv2D)              (None, 28, 28, 16)        160       \n",
      "_________________________________________________________________\n",
      "max_pooling2d (MaxPooling2D) (None, 14, 14, 16)        0         \n",
      "_________________________________________________________________\n",
      "conv2d_1 (Conv2D)            (None, 14, 14, 8)         1160      \n",
      "_________________________________________________________________\n",
      "max_pooling2d_1 (MaxPooling2 (None, 7, 7, 8)           0         \n",
      "_________________________________________________________________\n",
      "conv2d_2 (Conv2D)            (None, 7, 7, 8)           584       \n",
      "_________________________________________________________________\n",
      "max_pooling2d_2 (MaxPooling2 (None, 4, 4, 8)           0         \n",
      "_________________________________________________________________\n",
      "conv2d_3 (Conv2D)            (None, 4, 4, 8)           584       \n",
      "_________________________________________________________________\n",
      "up_sampling2d (UpSampling2D) (None, 8, 8, 8)           0         \n",
      "_________________________________________________________________\n",
      "conv2d_4 (Conv2D)            (None, 8, 8, 8)           584       \n",
      "_________________________________________________________________\n",
      "up_sampling2d_1 (UpSampling2 (None, 16, 16, 8)         0         \n",
      "_________________________________________________________________\n",
      "conv2d_5 (Conv2D)            (None, 14, 14, 16)        1168      \n",
      "_________________________________________________________________\n",
      "up_sampling2d_2 (UpSampling2 (None, 28, 28, 16)        0         \n",
      "_________________________________________________________________\n",
      "conv2d_6 (Conv2D)            (None, 28, 28, 1)         145       \n",
      "=================================================================\n",
      "Total params: 4,385\n",
      "Trainable params: 4,385\n",
      "Non-trainable params: 0\n",
      "_________________________________________________________________\n"
     ]
    }
   ],
   "source": [
    "def build_model(lr):\n",
    "    input_layer = Input(shape=(28,28, 1))\n",
    "    \n",
    "    ## Encoding \n",
    "    encoding_conv2d_1 = Conv2D(filters = 16, kernel_size=(3,3), padding='same', activation='relu')(input_layer)\n",
    "    encoding_maxpool_1 = MaxPooling2D(pool_size=(2,2))(encoding_conv2d_1)\n",
    "    \n",
    "    encoding_conv2d_2 = Conv2D(8, kernel_size=(3,3), padding='same', activation='relu')(encoding_maxpool_1)\n",
    "    encoding_maxpool_2 = MaxPooling2D(pool_size=(2,2), padding='same')(encoding_conv2d_2)\n",
    "    \n",
    "    encoding_conv2d_3 = Conv2D(8, kernel_size=(3,3), padding='same', activation='relu')(encoding_maxpool_2)\n",
    "    encoding_maxpool_3 = MaxPooling2D(pool_size=(2,2), padding='same')(encoding_conv2d_3)\n",
    "    \n",
    "    \n",
    "    #encoded_layer = Flatten()(encoding_maxpool_4)\n",
    "    \n",
    "    ## Decoding\n",
    "    decoding_conv2d_1 = Conv2D(8, kernel_size=(3,3), padding='same', activation='relu')(encoding_maxpool_3)\n",
    "    decoding_upscale_1 = UpSampling2D(size=(2,2))(decoding_conv2d_1)\n",
    "    \n",
    "    decoding_conv2d_2 = Conv2D(8, kernel_size=(3,3), padding='same', activation='relu')(decoding_upscale_1)\n",
    "    decoding_upscale_2 = UpSampling2D(size=(2,2))(decoding_conv2d_2)\n",
    "    \n",
    "    decoding_conv2d_3 = Conv2D(16, kernel_size=(3,3))(decoding_upscale_2)\n",
    "    decoding_upscale_3 = UpSampling2D(size=(2,2))(decoding_conv2d_3)\n",
    "    \n",
    "    decoded = Conv2D(1, (3, 3), activation='sigmoid', padding='same')(decoding_upscale_3)\n",
    "    \n",
    "    model = Model(input_layer, decoded)\n",
    "    \n",
    "    model.compile(optimizer=Adam(lr=0.01),\n",
    "                  loss='binary_crossentropy',\n",
    "                  metrics=['accuracy'])\n",
    "    \n",
    "    return model\n",
    "    \n",
    "cae_model = build_model(0.01)\n",
    "\n",
    "cae_model.summary()"
   ]
  },
  {
   "cell_type": "code",
   "execution_count": null,
   "metadata": {},
   "outputs": [],
   "source": [
    "cae_model.fit(x_train.reshape(len(x_train), 28, 28, 1)[0,:,:,:].reshape(1,28,28,1),\n",
    "              x_train.reshape(len(x_train), 28, 28, 1)[0,:,:,:].reshape(1,28,28,1),\n",
    "              epochs=1,\n",
    "              validation_split=0.2,\n",
    "              batch_size=1,\n",
    "              verbose=2)"
   ]
  },
  {
   "cell_type": "code",
   "execution_count": 59,
   "metadata": {},
   "outputs": [
    {
     "data": {
      "text/plain": [
       "60000"
      ]
     },
     "execution_count": 59,
     "metadata": {},
     "output_type": "execute_result"
    }
   ],
   "source": [
    "x_train.reshape(len(x_train), 28, 28, 1)[0,:,:,:].reshape(1,28,28,1)"
   ]
  },
  {
   "cell_type": "code",
   "execution_count": 2,
   "metadata": {},
   "outputs": [
    {
     "data": {
      "text/plain": [
       "-0.03963935291410448"
      ]
     },
     "execution_count": 2,
     "metadata": {},
     "output_type": "execute_result"
    }
   ],
   "source": [
    "(1515.372314453125 - 1577.9200439453125)/1577.9200439453125"
   ]
  },
  {
   "cell_type": "code",
   "execution_count": 7,
   "metadata": {},
   "outputs": [
    {
     "data": {
      "text/plain": [
       "0.9849503742972612"
      ]
     },
     "execution_count": 7,
     "metadata": {},
     "output_type": "execute_result"
    }
   ],
   "source": [
    "-(1538.1781005859375 - 1515.372314453125)/1515.372314453125 + 1"
   ]
  },
  {
   "cell_type": "code",
   "execution_count": 8,
   "metadata": {},
   "outputs": [
    {
     "data": {
      "text/plain": [
       "1.0059640077122363"
      ]
     },
     "execution_count": 8,
     "metadata": {},
     "output_type": "execute_result"
    }
   ],
   "source": [
    "-(1529.00439453125 - 1538.1781005859375)/1538.1781005859375 + 1"
   ]
  },
  {
   "cell_type": "code",
   "execution_count": 9,
   "metadata": {},
   "outputs": [
    {
     "data": {
      "text/plain": [
       "1.0020180487903019"
      ]
     },
     "execution_count": 9,
     "metadata": {},
     "output_type": "execute_result"
    }
   ],
   "source": [
    "(1532.09 - 1529.00439453125)/1529.00439453125 + 1"
   ]
  },
  {
   "cell_type": "code",
   "execution_count": 10,
   "metadata": {},
   "outputs": [
    {
     "data": {
      "text/plain": [
       "1.0321790655585101"
      ]
     },
     "execution_count": 10,
     "metadata": {},
     "output_type": "execute_result"
    }
   ],
   "source": []
  }
 ],
 "metadata": {
  "kernelspec": {
   "display_name": "Python 3",
   "language": "python",
   "name": "python3"
  },
  "language_info": {
   "codemirror_mode": {
    "name": "ipython",
    "version": 3
   },
   "file_extension": ".py",
   "mimetype": "text/x-python",
   "name": "python",
   "nbconvert_exporter": "python",
   "pygments_lexer": "ipython3",
   "version": "3.7.7"
  }
 },
 "nbformat": 4,
 "nbformat_minor": 4
}
